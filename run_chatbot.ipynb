{
  "nbformat": 4,
  "nbformat_minor": 0,
  "metadata": {
    "colab": {
      "name": "run_chatbot.ipynb",
      "provenance": [],
      "collapsed_sections": [],
      "authorship_tag": "ABX9TyNNrP+wXobxjApsHcULwizl",
      "include_colab_link": true
    },
    "kernelspec": {
      "name": "python3",
      "display_name": "Python 3"
    },
    "language_info": {
      "name": "python"
    }
  },
  "cells": [
    {
      "cell_type": "markdown",
      "metadata": {
        "id": "view-in-github",
        "colab_type": "text"
      },
      "source": [
        "<a href=\"https://colab.research.google.com/github/brandontan99/NLP-bank-chatbot/blob/master/run_chatbot.ipynb\" target=\"_parent\"><img src=\"https://colab.research.google.com/assets/colab-badge.svg\" alt=\"Open In Colab\"/></a>"
      ]
    },
    {
      "cell_type": "markdown",
      "metadata": {
        "id": "nR55EXsZPGHK"
      },
      "source": [
        "# Set up the environment"
      ]
    },
    {
      "cell_type": "code",
      "metadata": {
        "id": "PS7MoCd1OrPL",
        "outputId": "09be7c37-b75a-4acd-ce67-72920d497e37",
        "colab": {
          "base_uri": "https://localhost:8080/"
        }
      },
      "source": [
        "!git clone https://github.com/brandontan99/NLP-bank-chatbot.git\n",
        "%cd NLP-bank-chatbot\n",
        "!pip install -r requirements.txt \n",
        "!python download_modules.py"
      ],
      "execution_count": 8,
      "outputs": [
        {
          "output_type": "stream",
          "text": [
            "Cloning into 'NLP-bank-chatbot'...\n",
            "remote: Enumerating objects: 412, done.\u001b[K\n",
            "remote: Counting objects: 100% (412/412), done.\u001b[K\n",
            "remote: Compressing objects: 100% (326/326), done.\u001b[K\n",
            "remote: Total 412 (delta 240), reused 180 (delta 80), pack-reused 0\u001b[K\n",
            "Receiving objects: 100% (412/412), 216.80 KiB | 5.86 MiB/s, done.\n",
            "Resolving deltas: 100% (240/240), done.\n",
            "/content/NLP-bank-chatbot/NLP-bank-chatbot/NLP-bank-chatbot\n",
            "Requirement already satisfied: transformers in /usr/local/lib/python3.7/dist-packages (from -r requirements.txt (line 1)) (4.5.1)\n",
            "Requirement already satisfied: termcolor in /usr/local/lib/python3.7/dist-packages (from -r requirements.txt (line 2)) (1.1.0)\n",
            "Requirement already satisfied: umap-learn in /usr/local/lib/python3.7/dist-packages (from -r requirements.txt (line 3)) (0.5.1)\n",
            "Requirement already satisfied: hdbscan in /usr/local/lib/python3.7/dist-packages (from -r requirements.txt (line 4)) (0.8.27)\n",
            "Requirement already satisfied: contractions in /usr/local/lib/python3.7/dist-packages (from -r requirements.txt (line 5)) (0.0.48)\n",
            "Requirement already satisfied: packaging in /usr/local/lib/python3.7/dist-packages (from transformers->-r requirements.txt (line 1)) (20.9)\n",
            "Requirement already satisfied: filelock in /usr/local/lib/python3.7/dist-packages (from transformers->-r requirements.txt (line 1)) (3.0.12)\n",
            "Requirement already satisfied: numpy>=1.17 in /usr/local/lib/python3.7/dist-packages (from transformers->-r requirements.txt (line 1)) (1.19.5)\n",
            "Requirement already satisfied: requests in /usr/local/lib/python3.7/dist-packages (from transformers->-r requirements.txt (line 1)) (2.23.0)\n",
            "Requirement already satisfied: regex!=2019.12.17 in /usr/local/lib/python3.7/dist-packages (from transformers->-r requirements.txt (line 1)) (2019.12.20)\n",
            "Requirement already satisfied: sacremoses in /usr/local/lib/python3.7/dist-packages (from transformers->-r requirements.txt (line 1)) (0.0.45)\n",
            "Requirement already satisfied: importlib-metadata; python_version < \"3.8\" in /usr/local/lib/python3.7/dist-packages (from transformers->-r requirements.txt (line 1)) (3.10.1)\n",
            "Requirement already satisfied: tokenizers<0.11,>=0.10.1 in /usr/local/lib/python3.7/dist-packages (from transformers->-r requirements.txt (line 1)) (0.10.2)\n",
            "Requirement already satisfied: tqdm>=4.27 in /usr/local/lib/python3.7/dist-packages (from transformers->-r requirements.txt (line 1)) (4.41.1)\n",
            "Requirement already satisfied: numba>=0.49 in /usr/local/lib/python3.7/dist-packages (from umap-learn->-r requirements.txt (line 3)) (0.51.2)\n",
            "Requirement already satisfied: pynndescent>=0.5 in /usr/local/lib/python3.7/dist-packages (from umap-learn->-r requirements.txt (line 3)) (0.5.2)\n",
            "Requirement already satisfied: scipy>=1.0 in /usr/local/lib/python3.7/dist-packages (from umap-learn->-r requirements.txt (line 3)) (1.4.1)\n",
            "Requirement already satisfied: scikit-learn>=0.22 in /usr/local/lib/python3.7/dist-packages (from umap-learn->-r requirements.txt (line 3)) (0.22.2.post1)\n",
            "Requirement already satisfied: joblib>=1.0 in /usr/local/lib/python3.7/dist-packages (from hdbscan->-r requirements.txt (line 4)) (1.0.1)\n",
            "Requirement already satisfied: six in /usr/local/lib/python3.7/dist-packages (from hdbscan->-r requirements.txt (line 4)) (1.15.0)\n",
            "Requirement already satisfied: cython>=0.27 in /usr/local/lib/python3.7/dist-packages (from hdbscan->-r requirements.txt (line 4)) (0.29.22)\n",
            "Requirement already satisfied: textsearch>=0.0.21 in /usr/local/lib/python3.7/dist-packages (from contractions->-r requirements.txt (line 5)) (0.0.21)\n",
            "Requirement already satisfied: pyparsing>=2.0.2 in /usr/local/lib/python3.7/dist-packages (from packaging->transformers->-r requirements.txt (line 1)) (2.4.7)\n",
            "Requirement already satisfied: urllib3!=1.25.0,!=1.25.1,<1.26,>=1.21.1 in /usr/local/lib/python3.7/dist-packages (from requests->transformers->-r requirements.txt (line 1)) (1.24.3)\n",
            "Requirement already satisfied: idna<3,>=2.5 in /usr/local/lib/python3.7/dist-packages (from requests->transformers->-r requirements.txt (line 1)) (2.10)\n",
            "Requirement already satisfied: chardet<4,>=3.0.2 in /usr/local/lib/python3.7/dist-packages (from requests->transformers->-r requirements.txt (line 1)) (3.0.4)\n",
            "Requirement already satisfied: certifi>=2017.4.17 in /usr/local/lib/python3.7/dist-packages (from requests->transformers->-r requirements.txt (line 1)) (2020.12.5)\n",
            "Requirement already satisfied: click in /usr/local/lib/python3.7/dist-packages (from sacremoses->transformers->-r requirements.txt (line 1)) (7.1.2)\n",
            "Requirement already satisfied: zipp>=0.5 in /usr/local/lib/python3.7/dist-packages (from importlib-metadata; python_version < \"3.8\"->transformers->-r requirements.txt (line 1)) (3.4.1)\n",
            "Requirement already satisfied: typing-extensions>=3.6.4; python_version < \"3.8\" in /usr/local/lib/python3.7/dist-packages (from importlib-metadata; python_version < \"3.8\"->transformers->-r requirements.txt (line 1)) (3.7.4.3)\n",
            "Requirement already satisfied: llvmlite<0.35,>=0.34.0.dev0 in /usr/local/lib/python3.7/dist-packages (from numba>=0.49->umap-learn->-r requirements.txt (line 3)) (0.34.0)\n",
            "Requirement already satisfied: setuptools in /usr/local/lib/python3.7/dist-packages (from numba>=0.49->umap-learn->-r requirements.txt (line 3)) (56.0.0)\n",
            "Requirement already satisfied: pyahocorasick in /usr/local/lib/python3.7/dist-packages (from textsearch>=0.0.21->contractions->-r requirements.txt (line 5)) (1.4.2)\n",
            "Requirement already satisfied: anyascii in /usr/local/lib/python3.7/dist-packages (from textsearch>=0.0.21->contractions->-r requirements.txt (line 5)) (0.2.0)\n",
            "[nltk_data] Downloading package stopwords to /root/nltk_data...\n",
            "[nltk_data]   Package stopwords is already up-to-date!\n",
            "[nltk_data] Downloading package punkt to /root/nltk_data...\n",
            "[nltk_data]   Package punkt is already up-to-date!\n",
            "[nltk_data] Downloading package wordnet to /root/nltk_data...\n",
            "[nltk_data]   Package wordnet is already up-to-date!\n"
          ],
          "name": "stdout"
        }
      ]
    },
    {
      "cell_type": "markdown",
      "metadata": {
        "id": "v4idMJgdTayp"
      },
      "source": [
        "# Test Database Extraction"
      ]
    },
    {
      "cell_type": "code",
      "metadata": {
        "colab": {
          "base_uri": "https://localhost:8080/"
        },
        "id": "2-YPfhH4TfSb",
        "outputId": "8e11d7f1-9d97-4e0d-df97-aa8a9d3fee75"
      },
      "source": [
        "!python database_extraction.py"
      ],
      "execution_count": 3,
      "outputs": [
        {
          "output_type": "stream",
          "text": [
            "1: {'I want to transfer AMOUNT to PERSON in BANK_ACC bank account.': {'answer': 'AMOUNT has been transferred to PERSON in BANK_ACC.'}, 'I want to pay bill of AMOUNT with PERSON in BANK_ACC bank account': {'answer': 'AMOUNT bill has been paid.'}, 'I want to deposit AMOUNT to BANK_ACC bank account': {'answer': 'AMOUNT has been deposited into BANK_ACC.'}, 'I want to check balance in BANK_ACC bank account': {'answer': 'BANK_ACC bank account has AMOUNT left.'}} \n",
            "2: {'What is Bills & Statements?': {'answer': 'Bills & Statements provides your monthly statements and bills (banking statements, credit card and selected bills, advices and notices) in M2U. So you have the option of viewing and saving them in your computer instead of receiving a printed statement by mail every month.'}, 'How do I activate access to Bills & Statements?': {'answer': 'The first time Bills & Statements is accessed, you will be required to read and accept the Terms and Conditions of Access. This is a one-time acceptance and after this, you will be able to view your bills and statements directly.'}, 'What are the charges for this service?': {'answer': 'It is free of charge.'}, 'What bills and statements will I be able to view in M2U?': {'answer': 'You can view statements for:'}, 'Will I be able to view my statements anytime?': {'answer': 'You will be able to login and view your bills during the time Maybank2u.com is available. However, bear in mind that you are viewing your monthly bills which will be updated at different times of the month according to your billing cycle and not necessarily on the 1st of each month.'}, 'Will I be able to view all monthly statements on the 1st of each month?': {'answer': 'Monthly statement updates vary according to account type and billing date. Here is a guide for your reference.'}, 'How many months’ statement history will be available in Maybank2u.com?': {'answer': 'You will be able to view the following:'}, 'What is the difference between my M2U Account Summary and Bills & Statements?': {'answer': 'The difference is:'}, 'How do I print/download my bill or statement?': {'answer': 'You have the option of printing your statement or saving it\\xa0in your computer. You require Adobe Acrobat version 7 & above for this.'}, 'What is needed to register my bills for this service?': {'answer': \"Here's what you need to register your bills for the following Payee Corporations:\"}, 'My TNB bill Contract No. only has 6 digits but an 8-digit number is required for bill registration in M2U. What do I do?': {'answer': 'If\\xa0your Tenaga Nasional Berhad bill Contract No. (No. Kontrak) is less than 8 digits, please add zeros in front of the\\xa0numbers to make it 8 digits in total.'}, 'Will my electronic statement be accepted in case of any dispute?': {'answer': 'It is a valid document. All you have to do is obtain an endorsed copy at any Maybank branch in case of dispute or for other purposes.'}, 'If I am a joint account holder, will I be able view my bills and statements?': {'answer': 'Both primary and secondary joint account holders will be able to view bills and statements in M2U.'}, 'Will I continue to receive printed bills and statements by mail?': {'answer': 'Once you choose to accept the Terms and Conditions of Access to Bills & Statements, you will no longer receive printed Current/Savings Account & Credit Card statements by mail. You will be able to view and download them at Maybank2u.com.'}, 'How do I revert if I would like to have Hardcopy of my statements again?': {'answer': 'In order to revert hardcopy statement, I/We may request from MGCC Banking and Finance team, or through the home branch / service fulfilment unit using a letter or an Email. This will take 3-5 working days to do and changes will be effective on the next cycle of statement.'}, 'What do I need to do to receive my Electronic Statements via email?': {'answer': 'To receive Electronic Statements via email, please logon to M2U to accept the \"Stop Hardcopy T&C\". In order to do that, follow these steps:'}, \"What if I don't have a Maybank account? I only have Maybankard Credit Cards and American Express Credit Cards.\": {'answer': \"If you don't have a Maybank account and only have Maybankard Credit Cards and American Express Credit Cards, then you need to do the following:\"}, 'Upon registration of my Email Statement Delivery, when will I start receiving e-statements in my Inbox?': {'answer': 'You will start receiving your e-statements in the following billing statement cycle. However, should you register online in February 2010, you will only start receiving your e-statements during our first e-statement roll-out in March 2010.'}, 'What if I forgot my email statement password?': {'answer': 'You can reset your email statement password by performing the following steps:'}, 'Is this safe? Will someone else be able to view my e-statement?': {'answer': 'As long as you do not share your email statement password, only you will have access to your e-statement.'}, 'Will my payment due date change if I opt for e-statements? How long before I receive it?': {'answer': 'No, your payment due date will not change. You will receive it in your Inbox within 3 working days of your statement date.'}, 'How will I know when my e-statements have been sent to my email inbox?': {'answer': 'You will receive an email from M2U@bills.maybank2u.com.my.'}, 'When I applied for the American Express Gold Credit card, I was told I will only be receiving e-statements. However I have been receiving hard copy statements and not email statements.': {'answer': 'Yes, you were receiving hardcopy statement as we were still working on some technical enhancements. However, from 5th February 2010 you will be able to register online at Maybank2u.com and we will start sending out electronic statements effective March 2010. For the American Express Gold Credit Cards, any hardcopy statement request will have a nominal charge of RM5 per month from April 2010 onwards.'}, 'When I applied for the American Express Gold Credit card, I had already stated my email address in the application form. Why do I need to register on M2U again?': {'answer': 'Although you have provided your email address in the application form, for security reasons, you are still required to logon to M2U and register your email address and email statement password. The email address that you provided will appear automatically when you logon. You may change or maintain the same email address and enter your password.'}, 'Will I be charged if I opt to receive hardcopy statements?': {'answer': 'Yes, a fee of RM5 will be billed to your account every month, commencing April 2010 for the American Express Gold Credit Card only.'}, 'Once I accept the T&C online for agreeing to receive e-statements for the American Express Gold Credit Card, if I also hold an American Express Platinum Credit Card and Singapore Airlines KrisFlyer American Express Gold Credit Card, will I also stop receiving the hardcopies for both these cards?': {'answer': 'Yes, once you accept the T&C online, you will stop receiving hardcopy statements for all your Maybankard and American Express Credit Cards. However, should you wish to receive hardcopy statements, you will have to call our Customer Service Consultants. There will be no charge for these statements except for the American Express Gold Credit Card, where a fee of RM5 a month will be charged to your account from April 2010 onwards.'}, \"What if I don't do anything and leave it as it is? Will I stop receiving my hardcopy statements?\": {'answer': 'American Express Gold Credit card customers who have not registered for Bills & Statements on M2U will continue to receive their hardcopy statements, but a nominal fee of RM5 will be charged to their account each month. Maybankard cardholders will still continue to receive their hardcopy statements without any charge.'}, 'I also have an American Express Gold Charge Card. Will I be able to receive e-statements for the Charge card as well in the same email?': {'answer': 'No, currently this facility is only applicable for Maybankard and American Express Credit Cards only.'}, 'What is Online Stocks login?': {'answer': 'For the benefit of share trading customers, the new Online Stocks login allows Maybankinvest and Aseambankers accountholders to login directly to Maybank2u.com Online Stocks.'}, 'Who can use this feature?': {'answer': 'This access is open to Maybankinvest and Aseambankers share trading customers who are registered Maybank2u.com Online Banking users.'}, 'How much does it cost?': {'answer': 'It is currently available free of charge.'}, 'Can I login through Online Stocks to do Online Banking?': {'answer': 'No, you cannot. Selecting the \"Online Banking\" tab in Online Stocks will take you to the Online Banking login page. Enter your Maybank2u.com username and password to proceed.'}, 'Do I need a different username and password?': {'answer': \"No, you don't. Use your current Maybank2u.com username and password.\"}, \"Can I use the Online Stocks Login to view market prices if I don't have a share trading account?\": {'answer': 'You will not be able to. You have to login to Online Banking and select \"Online Stocks\" to view this information.'}, 'How do I use the Online Stocks Login if I have more than one Online Banking ID and password?': {'answer': 'You can access Online Stocks login via any of your access / user IDs as long as your IDs use the same IC no.'}, 'What is phishing?': {'answer': 'Phishing is a process where scamsters trick you into giving them your user IDs, passwords or credit card details, so that they can gain access to your online banking accounts.'}, 'How do I recognise a phishing scam / site?': {'answer': 'Here are a couple of ways you can spot a phishing scam'}, 'How do I prevent phishing attempts?': {'answer': 'Here are several safe tips to minimise threats of \"phishing\" and similar scams'}, 'What should I do if I forgot my M2U username and password?': {'answer': \"If you've forgotten your M2U username and password, here is what you need to do:\"}, 'Can I change my password?': {'answer': 'Yes, you can change your password using the Personal Details after logging in to Maybank2u.com.'}, 'What should I do if I forgot my Internet Banking PIN?': {'answer': \"If you've forgotten your Internet Banking PIN, here is what you need to do:\"}, 'What precautions can I take to protect my PIN and password?': {'answer': 'It is recommended that you do the following:'}, 'Your username and password cannot be the same. Why was this message displayed when I tried to login?': {'answer': 'The message will be displayed if your username and password are the same. For security reasons, your username and password should be different. You are advised to change your password to enable login.'}, 'How can I prevent my password from being automatically displayed after keying in the USER ID when using Internet Explorer 5?': {'answer': 'Internet Explorer\\xa0browsers have a feature that allows you to capture and store your user ID and password. This allows anyone with access to your computer to log into Maybank2u.com without even knowing your user ID and password.'}, 'If I have trouble logging in, what should I do?': {'answer': 'Please contact our Customer Care hotline at 1300 88 6688 or +603 7844 3696 (overseas) for assistance.'}, 'Is there an expiry to my M2U account?': {'answer': 'There is no expiry to your M2U account. However, your account will be automatically deactivated if you do not login to M2U within 6-12 months.'}, \"My account has been dormant for more than 6 months, and now I can't seem to login. What do I do?\": {'answer': 'Your account will be deactivated automatically if you do not login for 6-12 months. You will need to re-activate your M2U account online if you remember your Username and Password. But if you do not remember, please contact our Customer Service at 1300 88 6688 for assistance.'}, 'What is M2U enhanced security?': {'answer': \"M2U enhanced security is an additional security feature. It safeguards customers as they carry out banking transactions through various additional steps of verification that reinforces the fact you are at M2U's valid website.\"}, 'What does this enhanced security consist of?': {'answer': 'It consists of the following: an image, a phrase and three challenge questions. This information is known to you only when logging in to your account whether from your own computer or somewhere else.'}, 'Why do I have to use this new security feature?': {'answer': 'It is an additional security solution that will help to protect you against identity and account information theft.'}, 'Who will be able to use this new security feature?': {'answer': 'It is currently open to Individuals, Imteen and Sole Proprietor M2U users.'}, 'How to enroll this enhanced security?': {'answer': 'Existing M2U users'}, 'Will I need to change my password?': {'answer': 'No. Your password remains the same as this is just an additional security feature.'}, 'How is this enhanced security more secure?': {'answer': 'It has additional features for verification that your are at the actual M2U website before your enter your password. Further verification is carried out by the system asking you a challenge question during transaction if the situation warrants.'}, 'Why do I need to set up the challenge questions?': {'answer': 'Challenge questions are for further verification during transaction if the situation warrants. In the case that someone else has access to your Username and Password, they will not know the answers to the challenge questions as the answers provided are only known to you.'}, 'Is my image secure?': {'answer': 'Image that is presented to you during your registration process comes from a large selection of images, but randomly selected and shown for your selection. Therefore, it will be difficult for an unauthorized party to display your selected image for your verification.'}, 'Can I upload my own image?': {'answer': 'For security reasons, we are unable to allow uploading of your own images. However, we do provide a large selection of images for you to choose from.'}, 'Can I still change the image, phrase and challenge question after enrolment of this new security feature?How?': {'answer': 'Yes, you can. Please follow the steps below:'}, 'What if I have forgotten my image and/or phrase?': {'answer': 'You can opt to reset your password online and with that, you will be able to choose a new image, phrase and even challenge questions. Here is what you need to do:'}, 'How do I apply for Maybank2u Biz?': {'answer': 'You should visit your home branch for assistance on opening an M2U account.'}, 'How many users can access to Maybank2u Biz?': {'answer': 'You can have minimum of 1 user and maximum of 5 users.'}, 'Is FTT open to all M2U. Biz customers?': {'answer': 'Yes. FTT is open to all M2U. Biz customers.'}, 'Can I perform Open Payment or Fund Transfers?': {'answer': \"Yes, if you have registered for 'Maker & Checker' facility.\"}, 'Can I register / de-register my bills, 3rd party account Interbank GIRO account and FTT account via Maybank2u.com?': {'answer': \"If you have registered for 'Maker & Checker' facility, you can perform the registration and changes directly via Maybank2u. Alternatively you can still proceed with the registration and changes at any Maybank branch.\"}, 'How do I register / de-register my Bills and Accounts?': {'answer': \"You should visit your home branch for assistance on the necessary forms needed for submission, as well as statement bills for the payment unless you have registered for 'Maker & Checker' facility, you can perform it via online.\"}, 'If I already have access to M2U for my individual account, can I link my business account to allow the same access?': {'answer': 'No. You cannot link your individual account to your business account.'}, 'If I have forgotten my Password / Internet Banking Pin, how should I re-apply for a new Password and Internet Banking Pin?': {'answer': 'You will need to visit your home branch to reapply for your Internet Banking Pin.'}, 'What is the maximum transaction limit for 3rd Party Fund transfers, Interbank GIRO and Foreign Telegraphic Transfer?': {'answer': 'The maximum transaction limit will be:'}, 'How long for a transaction to remain valid, after Maker have created it?': {'answer': 'Monetary Transaction: Approval within the same day Non-Monetary Transaction: No validation period for approval'}, 'Why do I need a TAC?': {'answer': 'TAC is compulsory for specific transactions because it provides an additional layer of security to protect you against unauthorised access to your account.'}, 'Is TAC the same as the Internet Banking PIN?': {'answer': \"No, it's different. Your Internet Banking PIN, which is issued at the Branch, allows you to register for Maybank2u.com. The TAC is not used for login but only for specific transactions and types of activities.\"}, 'How much time do I have before my TAC expires?': {'answer': 'For your online banking safety, your TAC can now only be used while you are still logged on to Maybank2u.com. Your TAC will expire\\xa0immediately each time\\xa0you logout.'}, 'Can I request for TAC 24 hours a day, 7 days a week?': {'answer': 'You can request for TAC via Maybank2u.com, anytime -\\xa024 hours a day and 7 days a week.'}, 'Which is the easiest way to get a TAC?': {'answer': 'Making a TAC request via Maybank2u.com is probably the most convenient as your TAC will be sent via SMS to your mobile phone. You will have to register your mobile phone number for TAC in advance at any Maybank Branch.'}, \"How do I request for TAC if I'm overseas?\": {'answer': 'You can request for a TAC at Maybank2u.com and it will be sent to you by SMS if you have pre-registered your mobile phone number at the Branch before leaving the country.'}, 'I have a sole proprietorship account. How do I request for TAC?': {'answer': 'Note: You must apply for Phone Banking if you do not have this service currently.'}, 'Will I need a TAC each time I login to Maybank2u.com?': {'answer': 'TAC is only required for specific transactions. One TAC can be used to register multiple 3rd party accounts and bills. Subsequently, you will not require a TAC for these pre-registered transactions. You will only need to request for a new TAC to add new accounts and bills or to make ad hoc transfers.'}, 'Do I need a TAC for every transaction?': {'answer': 'Yes because you can only use one (1) TAC for only one (1) transaction or request.'}, 'Can I request for two or more TACs and use them?': {'answer': 'You may, but the latest TAC will immediately override the earlier one for security, therefore only one TAC will be valid at any time.'}, 'Is Maybank the only bank to implement the TAC security procedure?': {'answer': 'Maybank is the first Malaysian bank to implement the TAC as part of our commitment to our customers to maintain the best industry practices. TAC has been successfully introduced for Internet Banking in Singapore.'}, 'Can I cancel or deactivate my TAC?': {'answer': 'Yes. You can just delete or ignore the SMS that consist the TAC information.'}, 'I lost my TAC / I forgot the TAC / My TAC has expired!': {'answer': 'Make a request for a new TAC via Maybank2u.com or *Kawanku Phone Banking.'}, 'How many mobile phone numbers can I register for TAC?': {'answer': 'You may only register one number.'}, 'Can I register my mobile number for TAC via Maybank2u.com?': {'answer': 'No, you cannot. Your mobile number registration for TAC can only be done at the Branch for security purposes.'}, 'Can I register a foreign mobile phone number?': {'answer': 'TAC access is only available to Malaysian registered mobile phones with international call roaming service - 012, 019, 013, 014, 016, 017, 010 and 018.'}, 'Can I use the same mobile number that I registered for SMS Alerts/Maybank-Maxis Mobile Financial Services?': {'answer': 'Yes, but you will have to register your mobile number again at a Maybank Branch. You will not be able to register your mobile phone number for TAC at Maybank2u.com.'}, 'How do I change my mobile number for TAC?': {'answer': 'Just register your new number at the nearest ATM or Maybank branch.'}, 'Can I request for TAC using my mobile phone (SMS)?': {'answer': 'No. Your TAC request must be done via Maybank2u.com. You can only receive TAC via SMS, sent to the mobile phone number you registered.'}, 'Is there a charge for TAC via mobile phone (SMS)?': {'answer': 'It is available free of charge for a limited period.'}, 'How long does it take to receive TAC via mobile phone (SMS)?': {'answer': 'The delivery time depends on the traffic volume of your mobile service provider.'}, 'I entered my TAC as requested but got an error message.': {'answer': 'You may receive an \"error\" message for the following reasons:'}, 'There was a service interruption/time-out during the transaction. Is my TAC still valid or do I need a new one?': {'answer': 'You will only require a new TAC, if you have to login into Maybank2u.com again.'}, 'What happens if I enter a wrong TAC?': {'answer': 'If you enter an invalid TAC 3 times, you will be forced to \"Logout\" upon your fourth attempt. As a security precaution, your TAC will be deactivated immediately and you will not be allowed to log in to Maybank2u.com on your next \"Login\". Call our Customer Care hotline at 1-300-88-6688 or +603-7844 3696 (overseas) for assistance to reactivate login access to Maybank2u.com. You will also have to request for a new TAC to proceed with your transaction.'}, 'What happens if I suspect illegal or fraudulent transactions from my account?': {'answer': 'Please contact our Customer Care hotline at 1-300-88-6688 or 03-58914744\\xa0immediately.'}, \"How will I know that the TAC number I've received on my mobile is from Maybank2u.com?\": {'answer': 'All TAC numbers from Maybank2u.com should be delivered from any of the following shortcode numbers:'}, 'How to review recurring payment?': {'answer': \"1. Login with your Maybank2u account.2. Go to 'Settings'.3. Select 'Pay & Transfer' tab.4. Select 'Pay Future & Recurring'.5. Your list of recurring payments will be displayed here.\"}} \n",
            "3: {'Default': {'answer': \"I don't understand your question. Please try again.\"}} \n",
            "4: {123456789: {'amount': 200}, 987654321: {'amount': 300}}\n"
          ],
          "name": "stdout"
        }
      ]
    },
    {
      "cell_type": "markdown",
      "metadata": {
        "id": "fdBlF2us-k83"
      },
      "source": [
        "# Test Word Embedding Similarity"
      ]
    },
    {
      "cell_type": "code",
      "metadata": {
        "id": "QsPkg1Mv93Uw",
        "colab": {
          "base_uri": "https://localhost:8080/"
        },
        "outputId": "c36122cb-5acb-4430-d952-ae4eca266055"
      },
      "source": [
        "!python word_embedding.py "
      ],
      "execution_count": null,
      "outputs": [
        {
          "output_type": "stream",
          "text": [
            "First Sentence: good morning\n",
            "Second Sentence: good morning\n",
            "Vector similarity for similar meanings:  1.00\n"
          ],
          "name": "stdout"
        }
      ]
    },
    {
      "cell_type": "markdown",
      "metadata": {
        "id": "9M2TBisCUs8u"
      },
      "source": [
        "# Test Entity Extraction"
      ]
    },
    {
      "cell_type": "code",
      "metadata": {
        "colab": {
          "base_uri": "https://localhost:8080/"
        },
        "id": "4s86xPVcUvg0",
        "outputId": "e11a95d1-dda9-42bd-e425-6b99561b7588"
      },
      "source": [
        "from entity_extraction import get_entities\n",
        "get_entities(input())"
      ],
      "execution_count": null,
      "outputs": [
        {
          "output_type": "stream",
          "text": [
            "I paid RM30 to Simon Lim\n"
          ],
          "name": "stdout"
        },
        {
          "output_type": "execute_result",
          "data": {
            "text/plain": [
              "{'AMOUNT': ['RM30'], 'BANK_ACC': [], 'PERSON': ['Simon Lim']}"
            ]
          },
          "metadata": {
            "tags": []
          },
          "execution_count": 8
        }
      ]
    },
    {
      "cell_type": "markdown",
      "metadata": {
        "id": "09_mDwZA-qx1"
      },
      "source": [
        "# Chatbot Interface"
      ]
    },
    {
      "cell_type": "code",
      "metadata": {
        "id": "D6iQme8wPFoV",
        "colab": {
          "base_uri": "https://localhost:8080/"
        },
        "outputId": "5e06d8aa-c5c9-462d-ffcb-9f75ac71af96"
      },
      "source": [
        "!python main.py --logging --default_reply_thres 0.8"
      ],
      "execution_count": 9,
      "outputs": [
        {
          "output_type": "stream",
          "text": [
            "Chatbot: \u001b[32mHi, how can I help you?\u001b[0m\n",
            "I want to check my balance in 123456789\n",
            "INFO:__main__:Preprocessed User Message: ['want' 'check' 'balance' '123456789']\n",
            "INFO:__main__:Highest Matched Submodule: 2\n",
            "INFO:__main__:Highest Similarity Score: 0.7358754277229309\n",
            "INFO:__main__:Highest Confidence Level Question: My TNB bill Contract No. only has 6 digits but an 8-digit number is required for bill registration in M2U. What do I do?\n",
            "INFO:__main__:Highest Confidence Level Preprocessed Question: ['tnb' 'bill' 'contract' '6' 'digits' '8digit' 'number' 'require' 'bill'\n",
            " 'registration' 'm2u']\n",
            "INFO:__main__:Highest Confidence Level Answer: If your Tenaga Nasional Berhad bill Contract No. (No. Kontrak) is less than 8 digits, please add zeros in front of the numbers to make it 8 digits in total.\n",
            "Chatbot: \u001b[32mI don't understand your question. Please try again.\u001b[0m\n",
            "I want to check my bank balance in 123456789 bank account.\n",
            "INFO:__main__:Preprocessed User Message: ['want' 'check' 'bank' 'balance' '123456789' 'bank' 'account']\n",
            "INFO:__main__:Highest Matched Submodule: 1\n",
            "INFO:__main__:Highest Similarity Score: 0.8419633507728577\n",
            "INFO:__main__:Highest Confidence Level Question: I want to check balance in BANK_ACC bank account\n",
            "INFO:__main__:Highest Confidence Level Preprocessed Question: ['want' 'check' 'balance' 'bankacc' 'bank' 'account']\n",
            "INFO:__main__:Highest Confidence Level Answer: BANK_ACC bank account has AMOUNT left.\n",
            "INFO:__main__:Entities Extracted: {'AMOUNT': [], 'BANK_ACC': ['123456789']}\n",
            "Chatbot: \u001b[32m123456789 bank account has RM200 left.\u001b[0m\n",
            "Traceback (most recent call last):\n",
            "  File \"main.py\", line 99, in <module>\n",
            "    user_message = input()  \n",
            "KeyboardInterrupt\n",
            "Error in atexit._run_exitfuncs:\n",
            "Traceback (most recent call last):\n",
            "  File \"/usr/lib/python3.7/logging/__init__.py\", line 2021, in shutdown\n",
            "    def shutdown(handlerList=_handlerList):\n",
            "KeyboardInterrupt\n"
          ],
          "name": "stdout"
        }
      ]
    }
  ]
}