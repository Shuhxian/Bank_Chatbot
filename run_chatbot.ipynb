{
  "nbformat": 4,
  "nbformat_minor": 0,
  "metadata": {
    "colab": {
      "name": "run_chatbot.ipynb",
      "provenance": [],
      "collapsed_sections": [],
      "authorship_tag": "ABX9TyNwOWEgUs+NdHVFRqh3xBep",
      "include_colab_link": true
    },
    "kernelspec": {
      "name": "python3",
      "display_name": "Python 3"
    },
    "language_info": {
      "name": "python"
    }
  },
  "cells": [
    {
      "cell_type": "markdown",
      "metadata": {
        "id": "view-in-github",
        "colab_type": "text"
      },
      "source": [
        "<a href=\"https://colab.research.google.com/github/brandontan99/NLP-bank-chatbot/blob/master/run_chatbot.ipynb\" target=\"_parent\"><img src=\"https://colab.research.google.com/assets/colab-badge.svg\" alt=\"Open In Colab\"/></a>"
      ]
    },
    {
      "cell_type": "markdown",
      "metadata": {
        "id": "nR55EXsZPGHK"
      },
      "source": [
        "# Set up the environment"
      ]
    },
    {
      "cell_type": "code",
      "metadata": {
        "id": "PS7MoCd1OrPL"
      },
      "source": [
        "!git clone https://github.com/brandontan99/NLP-bank-chatbot.git\n",
        "%cd NLP-bank-chatbot\n",
        "!pip install -r requirements.txt \n",
        "!python download_modules.py"
      ],
      "execution_count": null,
      "outputs": []
    },
    {
      "cell_type": "markdown",
      "metadata": {
        "id": "v4idMJgdTayp"
      },
      "source": [
        "# Test Database Extraction"
      ]
    },
    {
      "cell_type": "code",
      "metadata": {
        "colab": {
          "base_uri": "https://localhost:8080/"
        },
        "id": "2-YPfhH4TfSb",
        "outputId": "9bd3c6a6-a118-414b-87e1-2cb694ee226d"
      },
      "source": [
        "!python database_extraction.py"
      ],
      "execution_count": 10,
      "outputs": [
        {
          "output_type": "stream",
          "text": [
            "1: {'I want to transfer AMOUNT to PERSON in BANK_ACC': {'answer': 'AMOUNT has been transferred to PERSON in BANK_ACC'}, 'Can I know the total balance in my bank account BANK_ACC': {'answer': 'Your bank account BANK_ACC has a total balance of AMOUNT'}, 'I want to pay bill of AMOUNT with PERSON in BANK_ACC': {'answer': 'AMOUNT bill has been paid.'}} \n",
            "2: {'What is Bills & Statements': {'answer': 'Bills & Statements provides your monthly statements and bills (banking statements, credit card and selected bills, advices and notices) in online banking. So you have the option of viewing and saving them in your computer instead of receiving a printed statement by mail every month.'}, 'What are the charges for Bills & Statement': {'answer': 'It is free of charge.'}, 'Will I be able to view my statements anytime': {'answer': 'You will be able to login and view your bills during the time online banking is available. However, bear in mind that you are viewing your monthly bills which will be updated at different times of the month according to your billing cycle and not necessarily on the 1st of each month. You need to have Adobe Acrobat Reader version 7 (or above) to open the PDF files.'}, 'Will I continue to receive printed bills and statements by mail': {'answer': 'Once you choose to accept the Terms and Conditions of Access to Bills & Statements, you will no longer receive printed Current/Savings Account & Credit Card statements by mail. You will be able to view and download them at Maybank2u.com.'}, 'Can I change my password': {'answer': 'Yes, you can change your password using the Personal Details after logging in to website.'}, 'If I have trouble logging in, what should I do': {'answer': 'Please contact our Customer Care hotline at 1300 88 6688 or +603 7844 3696 (overseas) for assistance.'}, 'What should I do if I forgot my Internet Banking PIN': {'answer': \"If you've forgotten your Internet Banking PIN, here is what you need to do:\\n1. Visit the nearest Branch or Home Branch to create a new Internet Banking PIN.\\n2. You are then required to perform Forgot Username/Password by using your Access No. and new Internet Banking PIN.\"}, 'Do I have to maintain a minimum balance': {'answer': 'No, there is no minimum balance requirement.'}, 'Are there any charges for online bill payments': {'answer': 'There is a 50sen charge for each successful transaction to selected payee corporations. You will be notified when you make a payment to any of these corporations and the amount will be debited from your ban account. \\n'}, 'Are bill payments processed on the same day': {'answer': \"Not all payee corporations process payments daily. Therefore, to avoid late payment, it's best to make your payments in advance. Please note that payments made after 12a.m. will only be credited the next working day.\"}} \n",
            "3: {'Default': {'answer': \"I don't understand your question. Please try again.\"}} \n"
          ],
          "name": "stdout"
        }
      ]
    },
    {
      "cell_type": "markdown",
      "metadata": {
        "id": "fdBlF2us-k83"
      },
      "source": [
        "# Test Word Embedding Similarity"
      ]
    },
    {
      "cell_type": "code",
      "metadata": {
        "id": "QsPkg1Mv93Uw",
        "colab": {
          "base_uri": "https://localhost:8080/"
        },
        "outputId": "c36122cb-5acb-4430-d952-ae4eca266055"
      },
      "source": [
        "!python word_embedding.py "
      ],
      "execution_count": 11,
      "outputs": [
        {
          "output_type": "stream",
          "text": [
            "First Sentence: good morning\n",
            "Second Sentence: good morning\n",
            "Vector similarity for similar meanings:  1.00\n"
          ],
          "name": "stdout"
        }
      ]
    },
    {
      "cell_type": "markdown",
      "metadata": {
        "id": "9M2TBisCUs8u"
      },
      "source": [
        "# Test Entity Extraction"
      ]
    },
    {
      "cell_type": "code",
      "metadata": {
        "colab": {
          "base_uri": "https://localhost:8080/"
        },
        "id": "4s86xPVcUvg0",
        "outputId": "e11a95d1-dda9-42bd-e425-6b99561b7588"
      },
      "source": [
        "from entity_extraction import get_entities\n",
        "get_entities(input())"
      ],
      "execution_count": 8,
      "outputs": [
        {
          "output_type": "stream",
          "text": [
            "I paid RM30 to Simon Lim\n"
          ],
          "name": "stdout"
        },
        {
          "output_type": "execute_result",
          "data": {
            "text/plain": [
              "{'AMOUNT': ['RM30'], 'BANK_ACC': [], 'PERSON': ['Simon Lim']}"
            ]
          },
          "metadata": {
            "tags": []
          },
          "execution_count": 8
        }
      ]
    },
    {
      "cell_type": "markdown",
      "metadata": {
        "id": "09_mDwZA-qx1"
      },
      "source": [
        "# Chatbot Interface"
      ]
    },
    {
      "cell_type": "code",
      "metadata": {
        "colab": {
          "base_uri": "https://localhost:8080/"
        },
        "id": "D6iQme8wPFoV",
        "outputId": "f5925805-b100-4eb3-b51e-510484af6cb6"
      },
      "source": [
        "!python main.py"
      ],
      "execution_count": null,
      "outputs": [
        {
          "output_type": "stream",
          "text": [
            "2021-05-01 02:37:33.166307: I tensorflow/stream_executor/platform/default/dso_loader.cc:49] Successfully opened dynamic library libcudart.so.11.0\n",
            "Chatbot: \u001b[32mHi, how can I help you?\u001b[0m\n",
            "what can you do?\n",
            "Traceback (most recent call last):\n",
            "  File \"main.py\", line 37, in <module>\n",
            "    if match_type == GENERAL_INTENT:\n",
            "NameError: name 'match_type' is not defined\n"
          ],
          "name": "stdout"
        }
      ]
    }
  ]
}