{
  "nbformat": 4,
  "nbformat_minor": 0,
  "metadata": {
    "colab": {
      "name": "run_chatbot.ipynb",
      "provenance": [],
      "collapsed_sections": [],
      "authorship_tag": "ABX9TyP555NxJcPBJgF/WYxlvipF",
      "include_colab_link": true
    },
    "kernelspec": {
      "name": "python3",
      "display_name": "Python 3"
    },
    "language_info": {
      "name": "python"
    }
  },
  "cells": [
    {
      "cell_type": "markdown",
      "metadata": {
        "id": "view-in-github",
        "colab_type": "text"
      },
      "source": [
        "<a href=\"https://colab.research.google.com/github/brandontan99/NLP-bank-chatbot/blob/master/run_chatbot.ipynb\" target=\"_parent\"><img src=\"https://colab.research.google.com/assets/colab-badge.svg\" alt=\"Open In Colab\"/></a>"
      ]
    },
    {
      "cell_type": "markdown",
      "metadata": {
        "id": "nR55EXsZPGHK"
      },
      "source": [
        "# Set up the environment"
      ]
    },
    {
      "cell_type": "code",
      "metadata": {
        "id": "PS7MoCd1OrPL",
        "outputId": "2a9fcd38-de8b-46d8-8124-9bcf5d5f3f4d",
        "colab": {
          "base_uri": "https://localhost:8080/"
        }
      },
      "source": [
        "!git clone https://github.com/brandontan99/NLP-bank-chatbot.git\n",
        "%cd NLP-bank-chatbot\n",
        "!pip install -r requirements.txt \n",
        "!python download_modules.py"
      ],
      "execution_count": 17,
      "outputs": [
        {
          "output_type": "stream",
          "text": [
            "Cloning into 'NLP-bank-chatbot'...\n",
            "remote: Enumerating objects: 237, done.\u001b[K\n",
            "remote: Counting objects: 100% (237/237), done.\u001b[K\n",
            "remote: Compressing objects: 100% (195/195), done.\u001b[K\n",
            "remote: Total 237 (delta 131), reused 91 (delta 37), pack-reused 0\u001b[K\n",
            "Receiving objects: 100% (237/237), 79.48 KiB | 13.25 MiB/s, done.\n",
            "Resolving deltas: 100% (131/131), done.\n",
            "/content/NLP-bank-chatbot/NLP-bank-chatbot/NLP-bank-chatbot/NLP-bank-chatbot/NLP-bank-chatbot/NLP-bank-chatbot/NLP-bank-chatbot\n",
            "Requirement already satisfied: transformers in /usr/local/lib/python3.7/dist-packages (from -r requirements.txt (line 1)) (4.5.1)\n",
            "Requirement already satisfied: termcolor in /usr/local/lib/python3.7/dist-packages (from -r requirements.txt (line 2)) (1.1.0)\n",
            "Requirement already satisfied: umap-learn in /usr/local/lib/python3.7/dist-packages (from -r requirements.txt (line 3)) (0.5.1)\n",
            "Requirement already satisfied: hdbscan in /usr/local/lib/python3.7/dist-packages (from -r requirements.txt (line 4)) (0.8.27)\n",
            "Requirement already satisfied: requests in /usr/local/lib/python3.7/dist-packages (from transformers->-r requirements.txt (line 1)) (2.23.0)\n",
            "Requirement already satisfied: regex!=2019.12.17 in /usr/local/lib/python3.7/dist-packages (from transformers->-r requirements.txt (line 1)) (2019.12.20)\n",
            "Requirement already satisfied: importlib-metadata; python_version < \"3.8\" in /usr/local/lib/python3.7/dist-packages (from transformers->-r requirements.txt (line 1)) (3.10.1)\n",
            "Requirement already satisfied: filelock in /usr/local/lib/python3.7/dist-packages (from transformers->-r requirements.txt (line 1)) (3.0.12)\n",
            "Requirement already satisfied: tqdm>=4.27 in /usr/local/lib/python3.7/dist-packages (from transformers->-r requirements.txt (line 1)) (4.41.1)\n",
            "Requirement already satisfied: sacremoses in /usr/local/lib/python3.7/dist-packages (from transformers->-r requirements.txt (line 1)) (0.0.45)\n",
            "Requirement already satisfied: tokenizers<0.11,>=0.10.1 in /usr/local/lib/python3.7/dist-packages (from transformers->-r requirements.txt (line 1)) (0.10.2)\n",
            "Requirement already satisfied: numpy>=1.17 in /usr/local/lib/python3.7/dist-packages (from transformers->-r requirements.txt (line 1)) (1.19.5)\n",
            "Requirement already satisfied: packaging in /usr/local/lib/python3.7/dist-packages (from transformers->-r requirements.txt (line 1)) (20.9)\n",
            "Requirement already satisfied: pynndescent>=0.5 in /usr/local/lib/python3.7/dist-packages (from umap-learn->-r requirements.txt (line 3)) (0.5.2)\n",
            "Requirement already satisfied: scikit-learn>=0.22 in /usr/local/lib/python3.7/dist-packages (from umap-learn->-r requirements.txt (line 3)) (0.22.2.post1)\n",
            "Requirement already satisfied: numba>=0.49 in /usr/local/lib/python3.7/dist-packages (from umap-learn->-r requirements.txt (line 3)) (0.51.2)\n",
            "Requirement already satisfied: scipy>=1.0 in /usr/local/lib/python3.7/dist-packages (from umap-learn->-r requirements.txt (line 3)) (1.4.1)\n",
            "Requirement already satisfied: joblib>=1.0 in /usr/local/lib/python3.7/dist-packages (from hdbscan->-r requirements.txt (line 4)) (1.0.1)\n",
            "Requirement already satisfied: six in /usr/local/lib/python3.7/dist-packages (from hdbscan->-r requirements.txt (line 4)) (1.15.0)\n",
            "Requirement already satisfied: cython>=0.27 in /usr/local/lib/python3.7/dist-packages (from hdbscan->-r requirements.txt (line 4)) (0.29.22)\n",
            "Requirement already satisfied: chardet<4,>=3.0.2 in /usr/local/lib/python3.7/dist-packages (from requests->transformers->-r requirements.txt (line 1)) (3.0.4)\n",
            "Requirement already satisfied: urllib3!=1.25.0,!=1.25.1,<1.26,>=1.21.1 in /usr/local/lib/python3.7/dist-packages (from requests->transformers->-r requirements.txt (line 1)) (1.24.3)\n",
            "Requirement already satisfied: idna<3,>=2.5 in /usr/local/lib/python3.7/dist-packages (from requests->transformers->-r requirements.txt (line 1)) (2.10)\n",
            "Requirement already satisfied: certifi>=2017.4.17 in /usr/local/lib/python3.7/dist-packages (from requests->transformers->-r requirements.txt (line 1)) (2020.12.5)\n",
            "Requirement already satisfied: typing-extensions>=3.6.4; python_version < \"3.8\" in /usr/local/lib/python3.7/dist-packages (from importlib-metadata; python_version < \"3.8\"->transformers->-r requirements.txt (line 1)) (3.7.4.3)\n",
            "Requirement already satisfied: zipp>=0.5 in /usr/local/lib/python3.7/dist-packages (from importlib-metadata; python_version < \"3.8\"->transformers->-r requirements.txt (line 1)) (3.4.1)\n",
            "Requirement already satisfied: click in /usr/local/lib/python3.7/dist-packages (from sacremoses->transformers->-r requirements.txt (line 1)) (7.1.2)\n",
            "Requirement already satisfied: pyparsing>=2.0.2 in /usr/local/lib/python3.7/dist-packages (from packaging->transformers->-r requirements.txt (line 1)) (2.4.7)\n",
            "Requirement already satisfied: llvmlite>=0.30 in /usr/local/lib/python3.7/dist-packages (from pynndescent>=0.5->umap-learn->-r requirements.txt (line 3)) (0.34.0)\n",
            "Requirement already satisfied: setuptools in /usr/local/lib/python3.7/dist-packages (from numba>=0.49->umap-learn->-r requirements.txt (line 3)) (56.0.0)\n",
            "[nltk_data] Downloading package stopwords to /root/nltk_data...\n",
            "[nltk_data]   Package stopwords is already up-to-date!\n",
            "[nltk_data] Downloading package punkt to /root/nltk_data...\n",
            "[nltk_data]   Package punkt is already up-to-date!\n"
          ],
          "name": "stdout"
        }
      ]
    },
    {
      "cell_type": "markdown",
      "metadata": {
        "id": "v4idMJgdTayp"
      },
      "source": [
        "# Test Database Extraction"
      ]
    },
    {
      "cell_type": "code",
      "metadata": {
        "colab": {
          "base_uri": "https://localhost:8080/"
        },
        "id": "2-YPfhH4TfSb",
        "outputId": "9bd3c6a6-a118-414b-87e1-2cb694ee226d"
      },
      "source": [
        "!python database_extraction.py"
      ],
      "execution_count": null,
      "outputs": [
        {
          "output_type": "stream",
          "text": [
            "1: {'I want to transfer AMOUNT to PERSON in BANK_ACC': {'answer': 'AMOUNT has been transferred to PERSON in BANK_ACC'}, 'Can I know the total balance in my bank account BANK_ACC': {'answer': 'Your bank account BANK_ACC has a total balance of AMOUNT'}, 'I want to pay bill of AMOUNT with PERSON in BANK_ACC': {'answer': 'AMOUNT bill has been paid.'}} \n",
            "2: {'What is Bills & Statements': {'answer': 'Bills & Statements provides your monthly statements and bills (banking statements, credit card and selected bills, advices and notices) in online banking. So you have the option of viewing and saving them in your computer instead of receiving a printed statement by mail every month.'}, 'What are the charges for Bills & Statement': {'answer': 'It is free of charge.'}, 'Will I be able to view my statements anytime': {'answer': 'You will be able to login and view your bills during the time online banking is available. However, bear in mind that you are viewing your monthly bills which will be updated at different times of the month according to your billing cycle and not necessarily on the 1st of each month. You need to have Adobe Acrobat Reader version 7 (or above) to open the PDF files.'}, 'Will I continue to receive printed bills and statements by mail': {'answer': 'Once you choose to accept the Terms and Conditions of Access to Bills & Statements, you will no longer receive printed Current/Savings Account & Credit Card statements by mail. You will be able to view and download them at Maybank2u.com.'}, 'Can I change my password': {'answer': 'Yes, you can change your password using the Personal Details after logging in to website.'}, 'If I have trouble logging in, what should I do': {'answer': 'Please contact our Customer Care hotline at 1300 88 6688 or +603 7844 3696 (overseas) for assistance.'}, 'What should I do if I forgot my Internet Banking PIN': {'answer': \"If you've forgotten your Internet Banking PIN, here is what you need to do:\\n1. Visit the nearest Branch or Home Branch to create a new Internet Banking PIN.\\n2. You are then required to perform Forgot Username/Password by using your Access No. and new Internet Banking PIN.\"}, 'Do I have to maintain a minimum balance': {'answer': 'No, there is no minimum balance requirement.'}, 'Are there any charges for online bill payments': {'answer': 'There is a 50sen charge for each successful transaction to selected payee corporations. You will be notified when you make a payment to any of these corporations and the amount will be debited from your ban account. \\n'}, 'Are bill payments processed on the same day': {'answer': \"Not all payee corporations process payments daily. Therefore, to avoid late payment, it's best to make your payments in advance. Please note that payments made after 12a.m. will only be credited the next working day.\"}} \n",
            "3: {'Default': {'answer': \"I don't understand your question. Please try again.\"}} \n"
          ],
          "name": "stdout"
        }
      ]
    },
    {
      "cell_type": "markdown",
      "metadata": {
        "id": "fdBlF2us-k83"
      },
      "source": [
        "# Test Word Embedding Similarity"
      ]
    },
    {
      "cell_type": "code",
      "metadata": {
        "id": "QsPkg1Mv93Uw",
        "colab": {
          "base_uri": "https://localhost:8080/"
        },
        "outputId": "c36122cb-5acb-4430-d952-ae4eca266055"
      },
      "source": [
        "!python word_embedding.py "
      ],
      "execution_count": null,
      "outputs": [
        {
          "output_type": "stream",
          "text": [
            "First Sentence: good morning\n",
            "Second Sentence: good morning\n",
            "Vector similarity for similar meanings:  1.00\n"
          ],
          "name": "stdout"
        }
      ]
    },
    {
      "cell_type": "markdown",
      "metadata": {
        "id": "9M2TBisCUs8u"
      },
      "source": [
        "# Test Entity Extraction"
      ]
    },
    {
      "cell_type": "code",
      "metadata": {
        "colab": {
          "base_uri": "https://localhost:8080/"
        },
        "id": "4s86xPVcUvg0",
        "outputId": "e11a95d1-dda9-42bd-e425-6b99561b7588"
      },
      "source": [
        "from entity_extraction import get_entities\n",
        "get_entities(input())"
      ],
      "execution_count": null,
      "outputs": [
        {
          "output_type": "stream",
          "text": [
            "I paid RM30 to Simon Lim\n"
          ],
          "name": "stdout"
        },
        {
          "output_type": "execute_result",
          "data": {
            "text/plain": [
              "{'AMOUNT': ['RM30'], 'BANK_ACC': [], 'PERSON': ['Simon Lim']}"
            ]
          },
          "metadata": {
            "tags": []
          },
          "execution_count": 8
        }
      ]
    },
    {
      "cell_type": "markdown",
      "metadata": {
        "id": "09_mDwZA-qx1"
      },
      "source": [
        "# Chatbot Interface"
      ]
    },
    {
      "cell_type": "code",
      "metadata": {
        "id": "D6iQme8wPFoV"
      },
      "source": [
        "!python main.py --logging"
      ],
      "execution_count": null,
      "outputs": []
    }
  ]
}