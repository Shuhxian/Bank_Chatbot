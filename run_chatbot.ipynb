{
  "nbformat": 4,
  "nbformat_minor": 0,
  "metadata": {
    "colab": {
      "name": "run_chatbot.ipynb",
      "provenance": [],
      "collapsed_sections": [],
      "authorship_tag": "ABX9TyMfyj1Z0EtKIwNzCtb8UptA",
      "include_colab_link": true
    },
    "kernelspec": {
      "name": "python3",
      "display_name": "Python 3"
    },
    "language_info": {
      "name": "python"
    }
  },
  "cells": [
    {
      "cell_type": "markdown",
      "metadata": {
        "id": "view-in-github",
        "colab_type": "text"
      },
      "source": [
        "<a href=\"https://colab.research.google.com/github/brandontan99/NLP-bank-chatbot/blob/main/run_chatbot.ipynb\" target=\"_parent\"><img src=\"https://colab.research.google.com/assets/colab-badge.svg\" alt=\"Open In Colab\"/></a>"
      ]
    },
    {
      "cell_type": "markdown",
      "metadata": {
        "id": "nR55EXsZPGHK"
      },
      "source": [
        "# Set up the environment"
      ]
    },
    {
      "cell_type": "code",
      "metadata": {
        "colab": {
          "base_uri": "https://localhost:8080/"
        },
        "id": "PS7MoCd1OrPL",
        "outputId": "4ccd7f61-13de-4421-b175-84be99d1e77e"
      },
      "source": [
        "#!git install -r requirement.txt \n",
        "%cd NLP-bank-chatbot"
      ],
      "execution_count": 1,
      "outputs": [
        {
          "output_type": "stream",
          "text": [
            "/content/NLP-bank-chatbot\n"
          ],
          "name": "stdout"
        }
      ]
    },
    {
      "cell_type": "code",
      "metadata": {
        "colab": {
          "base_uri": "https://localhost:8080/"
        },
        "id": "D6iQme8wPFoV",
        "outputId": "92e37b2d-f54f-4372-fbee-86492e875df4"
      },
      "source": [
        "!python main.py"
      ],
      "execution_count": 6,
      "outputs": [
        {
          "output_type": "stream",
          "text": [
            "  File \"main.py\", line 28\n",
            "    return highest_confid_lvl_ans\n",
            "    ^\n",
            "SyntaxError: 'return' outside function\n"
          ],
          "name": "stdout"
        }
      ]
    }
  ]
}